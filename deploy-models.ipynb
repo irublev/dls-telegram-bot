{
 "cells": [
  {
   "cell_type": "markdown",
   "metadata": {},
   "source": [
    "### **Prerequisites:**\n",
    "\n",
    " - access for given profile to *SageMaker* should be configured with *AmazonS3FullAccess*, *AmazonSageMakerFullAccess* and *AmazonEC2ContainerRegistryFullAccess* policies (done via **aws configure** in the profile in which jupyter is launched)\n",
    " - a special role with *AmazonSageMakerFullAccess* policy\n",
    " - a special bucket in S3 created a-priori\n",
    " - this role and the name of this bucket should be placed in the file **config.yml** put near this notebook with the following content:\n",
    " \n",
    " ```\n",
    "    default-bucket: .........\n",
    "    sagemaker-role: .........\n",
    " ```\n",
    " "
   ]
  },
  {
   "cell_type": "code",
   "execution_count": null,
   "metadata": {},
   "outputs": [],
   "source": [
    "import tarfile\n",
    "import yaml\n",
    "import sagemaker\n",
    "from sagemaker.pytorch import PyTorchModel\n",
    "from sagemaker import get_execution_role\n",
    "\n",
    "with open('./config.yml', 'r') as stream:\n",
    "    config_dict = yaml.safe_load(stream)\n",
    "sagemaker_session = sagemaker.Session(default_bucket=config_dict['default-bucket'])\n",
    "sagemaker_role = config_dict['sagemaker-role']\n",
    "# Uncomment the following line only in the case this notebook is launched from SageMaker notebook instance\n",
    "# sagemaker_role = get_execution_role()\n",
    "\n",
    "bucket = sagemaker_session.default_bucket()"
   ]
  },
  {
   "cell_type": "markdown",
   "metadata": {},
   "source": [
    "### Deploying NST model"
   ]
  },
  {
   "cell_type": "code",
   "execution_count": 7,
   "metadata": {},
   "outputs": [],
   "source": [
    "if len(sagemaker_session.list_s3_files(bucket=bucket, key_prefix='sagemaker/NST/models/vgg19_state_dict.tar.gz')) > 0:\n",
    "    vgg19_state_dict_model_data = f's3://{bucket}/sagemaker/NST/models/vgg19_state_dict.tar.gz'\n",
    "else:\n",
    "    import torch\n",
    "    from torchvision import models\n",
    "\n",
    "    device = torch.device(\"cuda\" if torch.cuda.is_available() else \"cpu\")\n",
    "    cnn = models.vgg19(pretrained=True).features.to(device).eval()\n",
    "    torch.save(cnn.state_dict(), 'vgg19_state_dict.model')\n",
    "    with tarfile.open('vgg19_state_dict.tar.gz', 'w:gz') as f:\n",
    "        f.add('vgg19_state_dict.model')\n",
    "    vgg19_state_dict_model_data = sagemaker_session.upload_data(path='./vgg19_state_dict.tar.gz', key_prefix='sagemaker/NST/models')"
   ]
  },
  {
   "cell_type": "code",
   "execution_count": 13,
   "metadata": {},
   "outputs": [],
   "source": [
    "from sagemaker.pytorch import PyTorchModel\n",
    "\n",
    "\n",
    "model = PyTorchModel(model_data=vgg19_state_dict_model_data,\n",
    "                     role=sagemaker_role,\n",
    "                     framework_version='1.5.0',\n",
    "                     py_version='py3',\n",
    "                     source_dir='./sagemaker/nst/',\n",
    "                     entry_point='nst.py',\n",
    "                     name='NeuralStyleTransfer',\n",
    "                     env = {'SAGEMAKER_MODEL_SERVER_TIMEOUT' : '1200'}\n",
    "                    )"
   ]
  },
  {
   "cell_type": "code",
   "execution_count": 14,
   "metadata": {},
   "outputs": [
    {
     "name": "stderr",
     "output_type": "stream",
     "text": [
      "Using already existing model: NeuralStyleTransfer\n"
     ]
    },
    {
     "name": "stdout",
     "output_type": "stream",
     "text": [
      "-------------------!"
     ]
    }
   ],
   "source": [
    "from sagemaker.predictor import json_serializer, json_deserializer\n",
    "\n",
    "\n",
    "nst_predictor = model.deploy(initial_instance_count = 1,\n",
    "                           instance_type = 'ml.p2.xlarge', #ml.c4.xlarge\n",
    "                           serializer=json_serializer,\n",
    "                           deserializer=json_deserializer,\n",
    "                           endpoint_name='NeuralStyleTransfer'\n",
    "                          )"
   ]
  },
  {
   "cell_type": "code",
   "execution_count": null,
   "metadata": {},
   "outputs": [],
   "source": [
    "# Uncomment and call what deployed predictor is not necessary\n",
    "# nst_predictor.delete_endpoint()"
   ]
  }
 ],
 "metadata": {
  "kernelspec": {
   "display_name": "Python 3",
   "language": "python",
   "name": "python3"
  },
  "language_info": {
   "codemirror_mode": {
    "name": "ipython",
    "version": 3
   },
   "file_extension": ".py",
   "mimetype": "text/x-python",
   "name": "python",
   "nbconvert_exporter": "python",
   "pygments_lexer": "ipython3",
   "version": "3.8.6"
  }
 },
 "nbformat": 4,
 "nbformat_minor": 4
}
